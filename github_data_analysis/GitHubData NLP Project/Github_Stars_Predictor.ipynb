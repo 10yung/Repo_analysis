{
 "cells": [
  {
   "cell_type": "markdown",
   "metadata": {},
   "source": [
    "# Github_Stars_Predictor\n",
    "* Decision Tree\n",
    "* Random Forests \n",
    "* Ada Boost Random Forests"
   ]
  },
  {
   "cell_type": "code",
   "execution_count": 115,
   "metadata": {},
   "outputs": [],
   "source": [
    "# Import Packages\n",
    "import pandas as pd\n",
    "import numpy as np\n",
    "import mysql.connector\n",
    "import json\n",
    "import graphviz \n",
    "\n",
    "from sklearn.metrics import accuracy_score\n",
    "from sklearn.ensemble import RandomForestClassifier\n",
    "from sklearn.datasets import make_classification\n",
    "from sklearn import tree\n",
    "from sklearn.model_selection import train_test_split\n",
    "from sklearn.ensemble import RandomForestClassifier\n",
    "from sklearn.datasets import make_classification\n",
    "from sklearn.ensemble import AdaBoostClassifier\n",
    "\n",
    "\n",
    "#Get Dataset through connectting to mysql\n",
    "with open('../config/config_dev.json') as json_file:\n",
    "    conf = json.load(json_file)\n",
    "\n",
    "default_datatable = conf['default_table']\n",
    "\n",
    "db = mysql.connector.connect(\n",
    "    host = conf['host'],\n",
    "    user = conf['user'],\n",
    "    passwd = conf['password'],\n",
    "    database = conf['database']\n",
    ")\n",
    "\n",
    "\n",
    "df = pd.read_sql(f'SELECT * FROM {default_datatable}', con=db)\n"
   ]
  },
  {
   "cell_type": "code",
   "execution_count": 147,
   "metadata": {},
   "outputs": [
    {
     "data": {
      "text/html": [
       "<div>\n",
       "<style scoped>\n",
       "    .dataframe tbody tr th:only-of-type {\n",
       "        vertical-align: middle;\n",
       "    }\n",
       "\n",
       "    .dataframe tbody tr th {\n",
       "        vertical-align: top;\n",
       "    }\n",
       "\n",
       "    .dataframe thead th {\n",
       "        text-align: right;\n",
       "    }\n",
       "</style>\n",
       "<table border=\"1\" class=\"dataframe\">\n",
       "  <thead>\n",
       "    <tr style=\"text-align: right;\">\n",
       "      <th></th>\n",
       "      <th>id</th>\n",
       "      <th>full_name</th>\n",
       "      <th>forks_count</th>\n",
       "      <th>open_issues_count</th>\n",
       "      <th>watchers_count</th>\n",
       "      <th>star_count</th>\n",
       "      <th>vader_setimental_result</th>\n",
       "      <th>Good_or_Bad</th>\n",
       "      <th>Star_counts_label</th>\n",
       "    </tr>\n",
       "  </thead>\n",
       "  <tbody>\n",
       "    <tr>\n",
       "      <th>0</th>\n",
       "      <td>0</td>\n",
       "      <td>Tyrrrz/DiscordChatExporter</td>\n",
       "      <td>107</td>\n",
       "      <td>24</td>\n",
       "      <td>778</td>\n",
       "      <td>778</td>\n",
       "      <td>0.3355</td>\n",
       "      <td>0</td>\n",
       "      <td>0</td>\n",
       "    </tr>\n",
       "    <tr>\n",
       "      <th>1</th>\n",
       "      <td>1</td>\n",
       "      <td>LorenzCK/OnTopReplica</td>\n",
       "      <td>110</td>\n",
       "      <td>61</td>\n",
       "      <td>776</td>\n",
       "      <td>776</td>\n",
       "      <td>0.9751</td>\n",
       "      <td>0</td>\n",
       "      <td>0</td>\n",
       "    </tr>\n",
       "    <tr>\n",
       "      <th>2</th>\n",
       "      <td>2</td>\n",
       "      <td>TheCGDF/SSD-Windows</td>\n",
       "      <td>131</td>\n",
       "      <td>5</td>\n",
       "      <td>776</td>\n",
       "      <td>776</td>\n",
       "      <td>0.0000</td>\n",
       "      <td>1</td>\n",
       "      <td>0</td>\n",
       "    </tr>\n",
       "    <tr>\n",
       "      <th>3</th>\n",
       "      <td>3</td>\n",
       "      <td>zkSNACKs/WalletWasabi</td>\n",
       "      <td>177</td>\n",
       "      <td>301</td>\n",
       "      <td>775</td>\n",
       "      <td>775</td>\n",
       "      <td>-0.8776</td>\n",
       "      <td>0</td>\n",
       "      <td>0</td>\n",
       "    </tr>\n",
       "    <tr>\n",
       "      <th>4</th>\n",
       "      <td>4</td>\n",
       "      <td>Unity-Technologies/arfoundation-samples</td>\n",
       "      <td>225</td>\n",
       "      <td>150</td>\n",
       "      <td>774</td>\n",
       "      <td>774</td>\n",
       "      <td>0.9409</td>\n",
       "      <td>1</td>\n",
       "      <td>0</td>\n",
       "    </tr>\n",
       "  </tbody>\n",
       "</table>\n",
       "</div>"
      ],
      "text/plain": [
       "   id                                full_name  forks_count  \\\n",
       "0   0               Tyrrrz/DiscordChatExporter          107   \n",
       "1   1                    LorenzCK/OnTopReplica          110   \n",
       "2   2                      TheCGDF/SSD-Windows          131   \n",
       "3   3                    zkSNACKs/WalletWasabi          177   \n",
       "4   4  Unity-Technologies/arfoundation-samples          225   \n",
       "\n",
       "   open_issues_count  watchers_count  star_count  vader_setimental_result  \\\n",
       "0                 24             778         778                   0.3355   \n",
       "1                 61             776         776                   0.9751   \n",
       "2                  5             776         776                   0.0000   \n",
       "3                301             775         775                  -0.8776   \n",
       "4                150             774         774                   0.9409   \n",
       "\n",
       "   Good_or_Bad  Star_counts_label  \n",
       "0            0                  0  \n",
       "1            0                  0  \n",
       "2            1                  0  \n",
       "3            0                  0  \n",
       "4            1                  0  "
      ]
     },
     "execution_count": 147,
     "metadata": {},
     "output_type": "execute_result"
    }
   ],
   "source": [
    "# df.describe()\n",
    "star_counts_median = df[['star_count']].median().values\n",
    "df['Star_counts_label'] = [1 if x >= star_counts_median else 0 for x in df['star_count']]\n",
    "df.head()"
   ]
  },
  {
   "cell_type": "code",
   "execution_count": 148,
   "metadata": {},
   "outputs": [],
   "source": [
    "Y = df[['Good_or_Bad']]\n",
    "X = df[['forks_count','open_issues_count','watchers_count','star_count']]"
   ]
  },
  {
   "cell_type": "code",
   "execution_count": 149,
   "metadata": {},
   "outputs": [],
   "source": [
    "#Split training testing datasets\n",
    "X_train, X_test, y_train, y_test = train_test_split(\n",
    "    X, Y, test_size=0.6, random_state=80)"
   ]
  },
  {
   "cell_type": "code",
   "execution_count": 150,
   "metadata": {},
   "outputs": [
    {
     "data": {
      "text/plain": [
       "0.5708061002178649"
      ]
     },
     "execution_count": 150,
     "metadata": {},
     "output_type": "execute_result"
    }
   ],
   "source": [
    "# Decision Tree\n",
    "clf = tree.DecisionTreeClassifier()\n",
    "clf = clf.fit(X_train, y_train)\n",
    "y_pred = clf.predict(X_test)\n",
    "accuracy_score(y_test, y_pred)"
   ]
  },
  {
   "cell_type": "code",
   "execution_count": 135,
   "metadata": {},
   "outputs": [
    {
     "data": {
      "text/plain": [
       "'./result/decision_tree.pdf'"
      ]
     },
     "execution_count": 135,
     "metadata": {},
     "output_type": "execute_result"
    }
   ],
   "source": [
    "# Store decision tree result\n",
    "dot_data = tree.export_graphviz(clf, out_file=None) \n",
    "dot_data = tree.export_graphviz(clf, out_file=None, \n",
    "                      feature_names=np.array(['forks_count','open_issues_count','watchers_count','star_count']),  \n",
    "                      class_names=np.array(['1', '0']),  \n",
    "                      filled=True, rounded=True,  \n",
    "                      special_characters=True)  \n",
    "graph = graphviz.Source(dot_data)\n",
    "graph = graphviz.Source(dot_data)\n",
    "graph.render(\"./result/decision_tree\")"
   ]
  },
  {
   "cell_type": "code",
   "execution_count": 151,
   "metadata": {},
   "outputs": [
    {
     "name": "stderr",
     "output_type": "stream",
     "text": [
      "/usr/local/anaconda3/lib/python3.7/site-packages/sklearn/ensemble/forest.py:245: FutureWarning: The default value of n_estimators will change from 10 in version 0.20 to 100 in 0.22.\n",
      "  \"10 in version 0.20 to 100 in 0.22.\", FutureWarning)\n"
     ]
    },
    {
     "data": {
      "text/plain": [
       "0.5715638912569859"
      ]
     },
     "execution_count": 151,
     "metadata": {},
     "output_type": "execute_result"
    }
   ],
   "source": [
    "# Random forest\n",
    "X_train_rf, Y_train_rf = make_classification(n_samples=5000, n_features=4, n_informative=2, n_redundant=0, random_state=0)\n",
    "clf_rf = RandomForestClassifier(max_depth=2, random_state=0)\n",
    "clf_rf.fit(X_train_rf, Y_train_rf)\n",
    "\n",
    "y_pred_rf = clf_rf.predict(X_test)\n",
    "accuracy_score(y_test, y_pred_rf)"
   ]
  },
  {
   "cell_type": "code",
   "execution_count": 152,
   "metadata": {},
   "outputs": [
    {
     "data": {
      "text/plain": [
       "0.5717533390167662"
      ]
     },
     "execution_count": 152,
     "metadata": {},
     "output_type": "execute_result"
    }
   ],
   "source": [
    "# Adaboost\n",
    "X_train_ada, Y_train_ada = make_classification(n_samples=1000, n_features=4,\n",
    "                           n_informative=2, n_redundant=0,\n",
    "                           random_state=0, shuffle=False)\n",
    "\n",
    "clf_ada = AdaBoostClassifier(n_estimators=100, random_state=0)\n",
    "clf_ada.fit(X_train_ada, Y_train_ada)\n",
    "y_pred_ada = clf_ada.predict(X_test)\n",
    "accuracy_score(y_test, y_pred_ada)"
   ]
  },
  {
   "cell_type": "code",
   "execution_count": null,
   "metadata": {},
   "outputs": [],
   "source": []
  }
 ],
 "metadata": {
  "kernelspec": {
   "display_name": "Python 3",
   "language": "python",
   "name": "python3"
  },
  "language_info": {
   "codemirror_mode": {
    "name": "ipython",
    "version": 3
   },
   "file_extension": ".py",
   "mimetype": "text/x-python",
   "name": "python",
   "nbconvert_exporter": "python",
   "pygments_lexer": "ipython3",
   "version": "3.7.5"
  }
 },
 "nbformat": 4,
 "nbformat_minor": 2
}
